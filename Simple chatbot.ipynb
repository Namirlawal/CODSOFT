{
 "cells": [
  {
   "cell_type": "code",
   "execution_count": null,
   "id": "a2dbc501-a2c9-4e49-b52d-bb9582bec099",
   "metadata": {},
   "outputs": [],
   "source": [
    "# Simple Chatbot for NL Restaurant\n",
    "\n",
    "def chatbot_response(user_input):\n",
    "    # Normalize user input\n",
    "    user_input = user_input.lower()\n",
    "    \n",
    "    # Greetings\n",
    "    if \"hello\" in user_input or \"hi\" in user_input:\n",
    "        return \"Hello! Welcome to NL Restaurant. How can I assist you today?\"\n",
    "    \n",
    "    # Inquiries about hours\n",
    "    elif \"hours\" in user_input or \"open\" in user_input:\n",
    "        return \"We are open from 9 AM to 10 PM from Monday to Saturday and from 10 AM to 8 PM on Sunday.\"\n",
    "    \n",
    "    # Inquiries about location\n",
    "    elif \"location\" in user_input or \"where\" in user_input:\n",
    "        return \"We are located at NO. 2 Abubakar Umar street, katampe extension Abuja\"\n",
    "    \n",
    "    # Inquiries about menu\n",
    "    elif \"menu\" in user_input or \"dishes\" in user_input:\n",
    "        return \"You can view our menu on our website: www.nlrestaurant.com/menu. We offer a variety of delicious Hausa dishes!\"\n",
    "    \n",
    "    # Inquiries about reservations\n",
    "    elif \"reservation\" in user_input or \"book\" in user_input:\n",
    "        return \"You can make a reservation by calling us at (234) 99312264 or through our website: www.nlrestaurant.com/reservations.\"\n",
    "    \n",
    "    # General appreciation\n",
    "    elif \"thank\" in user_input:\n",
    "        return \"You're welcome! If you have any other questions, feel free to ask.\"\n",
    "    \n",
    "    # Default response\n",
    "    else:\n",
    "        return \"I'm sorry, I didn't understand that. Can you please rephrase your question?\"\n",
    "\n",
    "\n",
    "while True:\n",
    "    user_input = input(\"You: \")\n",
    "    if user_input.lower() in [\"exit\", \"quit\"]:\n",
    "        print(\"Chatbot: Thank you for visiting NL Restaurant. Have a great day!\")\n",
    "        break\n",
    "    response = chatbot_response(user_input)\n",
    "    print(f\"Chatbot: {response}\")"
   ]
  }
 ],
 "metadata": {
  "kernelspec": {
   "display_name": "Python 3 (ipykernel)",
   "language": "python",
   "name": "python3"
  },
  "language_info": {
   "codemirror_mode": {
    "name": "ipython",
    "version": 3
   },
   "file_extension": ".py",
   "mimetype": "text/x-python",
   "name": "python",
   "nbconvert_exporter": "python",
   "pygments_lexer": "ipython3",
   "version": "3.11.5"
  }
 },
 "nbformat": 4,
 "nbformat_minor": 5
}
